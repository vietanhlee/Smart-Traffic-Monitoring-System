{
 "cells": [
  {
   "cell_type": "code",
   "execution_count": 1,
   "id": "800c7c6c",
   "metadata": {},
   "outputs": [
    {
     "name": "stdout",
     "output_type": "stream",
     "text": [
      "Setup complete  (16 CPUs, 15.7 GB RAM, 42.6/92.5 GB disk)\n"
     ]
    },
    {
     "name": "stdout",
     "output_type": "stream",
     "text": [
      "\n",
      "Benchmarks complete for best.pt on F:\\khodataset\\xe may oto\\data.yaml at imgsz=640 (680.62s)\n",
      "Benchmarks legend:  -  Success  -  Export passed but validation failed  -  Export failed\n",
      "+----------------------------------------------------------------------------------------------------------+\n",
      "|      Format                  Status   Size (MB)   metrics/mAP50-95(B)   Inference time (ms/im)   FPS   |\n",
      "+==========================================================================================================+\n",
      "| 1    PyTorch                          5.2         0.6376                171.88                   5.82  |\n",
      "| 2    TorchScript                      10.4        0.6345                134.84                   7.42  |\n",
      "| 3    ONNX                             10.1        0.6345                45.85                    21.81 |\n",
      "| 4    OpenVINO                         10.2        0.634                 13.71                    72.94 |\n",
      "| 5    TensorRT                         0.0         -                     -                        -     |\n",
      "| 6    CoreML                           0.0         -                     -                        -     |\n",
      "| 7    TensorFlow SavedModel            0.0         -                     -                        -     |\n",
      "| 8    TensorFlow GraphDef              0.0         -                     -                        -     |\n",
      "| 9    TensorFlow Lite                  0.0         -                     -                        -     |\n",
      "| 10   TensorFlow Edge TPU              0.0         -                     -                        -     |\n",
      "| 11   TensorFlow.js                    0.0         -                     -                        -     |\n",
      "| 12   PaddlePaddle                     0.0         -                     -                        -     |\n",
      "| 13   MNN                              10.0        0.6344                44.97                    22.24 |\n",
      "| 14   NCNN                             10.0        0.6345                64.12                    15.6  |\n",
      "| 15   IMX                              0.0         -                     -                        -     |\n",
      "| 16   RKNN                             0.0         -                     -                        -     |\n",
      "+----------------------------------------------------------------------------------------------------------+\n",
      "\n"
     ]
    }
   ],
   "source": [
    "from ultralytics.utils.benchmarks import benchmark\n",
    "df = benchmark(model=\"best.pt\", data=r\"F:\\khodataset\\xe may oto\\data.yaml\", imgsz= 640)"
   ]
  }
 ],
 "metadata": {
  "kernelspec": {
   "display_name": "py312",
   "language": "python",
   "name": "python3"
  },
  "language_info": {
   "codemirror_mode": {
    "name": "ipython",
    "version": 3
   },
   "file_extension": ".py",
   "mimetype": "text/x-python",
   "name": "python",
   "nbconvert_exporter": "python",
   "pygments_lexer": "ipython3",
   "version": "3.12.11"
  }
 },
 "nbformat": 4,
 "nbformat_minor": 5
}
