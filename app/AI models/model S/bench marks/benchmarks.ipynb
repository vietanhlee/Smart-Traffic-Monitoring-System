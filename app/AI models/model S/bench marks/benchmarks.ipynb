{
 "cells": [
  {
   "cell_type": "code",
   "execution_count": 1,
   "id": "800c7c6c",
   "metadata": {},
   "outputs": [
    {
     "name": "stdout",
     "output_type": "stream",
     "text": [
      "Setup complete  (16 CPUs, 15.7 GB RAM, 54.0/92.5 GB disk)\n"
     ]
    },
    {
     "name": "stdout",
     "output_type": "stream",
     "text": [
      "\n",
      "Benchmarks complete for best.pt on F:\\khodataset\\xe may oto\\data.yaml at imgsz=640 (1506.38s)\n",
      "Benchmarks legend:  -  Success  -  Export passed but validation failed  -  Export failed\n",
      "+----------------------------------------------------------------------------------------------------------+\n",
      "|      Format                  Status   Size (MB)   metrics/mAP50-95(B)   Inference time (ms/im)   FPS   |\n",
      "+==========================================================================================================+\n",
      "| 1    PyTorch                          18.3        0.6968                315.07                   3.17  |\n",
      "| 2    TorchScript                      36.5        0.6938                262.06                   3.82  |\n",
      "| 3    ONNX                             36.2        0.6938                183.57                   5.45  |\n",
      "| 4    OpenVINO                         36.3        0.6931                45.02                    22.21 |\n",
      "| 5    TensorRT                         0.0         -                     -                        -     |\n",
      "| 6    CoreML                           0.0         -                     -                        -     |\n",
      "| 7    TensorFlow SavedModel            0.0         -                     -                        -     |\n",
      "| 8    TensorFlow GraphDef              0.0         -                     -                        -     |\n",
      "| 9    TensorFlow Lite                  0.0         -                     -                        -     |\n",
      "| 10   TensorFlow Edge TPU              0.0         -                     -                        -     |\n",
      "| 11   TensorFlow.js                    0.0         -                     -                        -     |\n",
      "| 12   PaddlePaddle                     0.0         -                     -                        -     |\n",
      "| 13   MNN                              36.1        0.6938                150.89                   6.63  |\n",
      "| 14   NCNN                             36.1        0.6938                204.25                   4.9   |\n",
      "| 15   IMX                              0.0         -                     -                        -     |\n",
      "| 16   RKNN                             0.0         -                     -                        -     |\n",
      "+----------------------------------------------------------------------------------------------------------+\n",
      "\n"
     ]
    }
   ],
   "source": [
    "from ultralytics.utils.benchmarks import benchmark\n",
    "df = benchmark(model=\"best.pt\", data=r\"F:\\khodataset\\xe may oto\\data.yaml\", imgsz= 640)"
   ]
  }
 ],
 "metadata": {
  "kernelspec": {
   "display_name": "py312",
   "language": "python",
   "name": "python3"
  },
  "language_info": {
   "codemirror_mode": {
    "name": "ipython",
    "version": 3
   },
   "file_extension": ".py",
   "mimetype": "text/x-python",
   "name": "python",
   "nbconvert_exporter": "python",
   "pygments_lexer": "ipython3",
   "version": "3.12.11"
  }
 },
 "nbformat": 4,
 "nbformat_minor": 5
}
